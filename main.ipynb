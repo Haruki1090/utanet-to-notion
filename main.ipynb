{
 "cells": [
  {
   "cell_type": "code",
   "execution_count": 1,
   "metadata": {},
   "outputs": [],
   "source": [
    "import scripts\n",
    "%load_ext autoreload\n",
    "%autoreload 2"
   ]
  },
  {
   "cell_type": "code",
   "execution_count": 2,
   "metadata": {},
   "outputs": [
    {
     "data": {
      "text/plain": [
       "'https://www.uta-net.com/artist/134/'"
      ]
     },
     "execution_count": 2,
     "metadata": {},
     "output_type": "execute_result"
    }
   ],
   "source": [
    "artist_page_url = input(\"アーティストページのURLを入力してください: \")\n",
    "artist_page_url"
   ]
  },
  {
   "cell_type": "code",
   "execution_count": 3,
   "metadata": {},
   "outputs": [
    {
     "name": "stdout",
     "output_type": "stream",
     "text": [
      "song_ids_134.csvが見つかりません。新規でsong_idをスクレイピングします。\n",
      "アーティストID 134 の全ページをスクレイピングして最新の曲リストを取得します。\n"
     ]
    },
    {
     "data": {
      "application/vnd.jupyter.widget-view+json": {
       "model_id": "c9c4b1a9ad1d430b926c106395cd7d84",
       "version_major": 2,
       "version_minor": 0
      },
      "text/plain": [
       "ページを取得中: 0page [00:00, ?page/s]"
      ]
     },
     "metadata": {},
     "output_type": "display_data"
    },
    {
     "data": {
      "application/vnd.jupyter.widget-view+json": {
       "model_id": "940e010f68d44235a14b6794f893252f",
       "version_major": 2,
       "version_minor": 0
      },
      "text/plain": [
       "ページ1の曲を処理中:   0%|          | 0/200 [00:00<?, ?it/s]"
      ]
     },
     "metadata": {},
     "output_type": "display_data"
    },
    {
     "data": {
      "application/vnd.jupyter.widget-view+json": {
       "model_id": "17bd9788d01c4c969ae4fb3bc64c2c03",
       "version_major": 2,
       "version_minor": 0
      },
      "text/plain": [
       "ページ2の曲を処理中:   0%|          | 0/172 [00:00<?, ?it/s]"
      ]
     },
     "metadata": {},
     "output_type": "display_data"
    },
    {
     "name": "stdout",
     "output_type": "stream",
     "text": [
      "スクレイピングで取得した総曲数: 372件\n",
      "新しいsong_idが372件見つかりました。CSVに追加保存します。\n",
      "song_ids_134.csvに合計372件のsong_idを保存しました。\n",
      "合計372曲のうち、372件の新しい曲の歌詞を取得します。\n"
     ]
    },
    {
     "data": {
      "application/vnd.jupyter.widget-view+json": {
       "model_id": "a272ac9bb9534886a11d9452d9bb533a",
       "version_major": 2,
       "version_minor": 0
      },
      "text/plain": [
       "楽曲情報を取得中:   0%|          | 0/372 [00:00<?, ?it/s]"
      ]
     },
     "metadata": {},
     "output_type": "display_data"
    },
    {
     "name": "stdout",
     "output_type": "stream",
     "text": [
      "楽曲情報の取得と保存が完了しました。\n"
     ]
    }
   ],
   "source": [
    "from scripts import get_and_save_song_ids, scrape_and_save_lyrics\n",
    "\n",
    "# 1. song_idのリストを取得します（ファイルがあれば読み込み、なければスクレイピング）\n",
    "song_id_list = get_and_save_song_ids(artist_page_url)\n",
    "\n",
    "# 2. 取得したsong_idリストを使って、歌詞をスクレイピングし、CSVに保存します\n",
    "if song_id_list:\n",
    "    scrape_and_save_lyrics(song_id_list)"
   ]
  },
  {
   "cell_type": "code",
   "execution_count": 4,
   "metadata": {},
   "outputs": [
    {
     "data": {
      "text/html": [
       "<div>\n",
       "<style scoped>\n",
       "    .dataframe tbody tr th:only-of-type {\n",
       "        vertical-align: middle;\n",
       "    }\n",
       "\n",
       "    .dataframe tbody tr th {\n",
       "        vertical-align: top;\n",
       "    }\n",
       "\n",
       "    .dataframe thead th {\n",
       "        text-align: right;\n",
       "    }\n",
       "</style>\n",
       "<table border=\"1\" class=\"dataframe\">\n",
       "  <thead>\n",
       "    <tr style=\"text-align: right;\">\n",
       "      <th></th>\n",
       "      <th>song_id</th>\n",
       "      <th>title</th>\n",
       "      <th>artist</th>\n",
       "      <th>main_theme</th>\n",
       "      <th>lyricist</th>\n",
       "      <th>composer</th>\n",
       "      <th>arranger</th>\n",
       "      <th>release_date</th>\n",
       "      <th>cover_url</th>\n",
       "      <th>lyrics</th>\n",
       "    </tr>\n",
       "  </thead>\n",
       "  <tbody>\n",
       "    <tr>\n",
       "      <th>0</th>\n",
       "      <td>10000</td>\n",
       "      <td>DEEP KISS</td>\n",
       "      <td>B'z</td>\n",
       "      <td>NaN</td>\n",
       "      <td>稲葉浩志</td>\n",
       "      <td>松本孝弘</td>\n",
       "      <td>KOHSHI INABA・AKIHITO TOKUNAGA・TAK MATSUMOTO</td>\n",
       "      <td>1997/11/19</td>\n",
       "      <td>https://m.media-amazon.com/images/I/61gRn0r4To...</td>\n",
       "      <td>イヤイヤイヤ……\\n\\n予想通りあの娘は逃げちゃった\\nいっさいがっさい持ってかれました\\n...</td>\n",
       "    </tr>\n",
       "    <tr>\n",
       "      <th>1</th>\n",
       "      <td>10085</td>\n",
       "      <td>Liar! Liar!</td>\n",
       "      <td>B'z</td>\n",
       "      <td>97 NHL 日本公式開幕戦オフィシャルテーマソング主題歌</td>\n",
       "      <td>稲葉浩志</td>\n",
       "      <td>松本孝弘</td>\n",
       "      <td>稲葉浩志・徳永暁人・松本孝弘</td>\n",
       "      <td>1997/10/08</td>\n",
       "      <td>https://m.media-amazon.com/images/I/51M0KWpRk2...</td>\n",
       "      <td>まっ黄色いシャツ着ちゃって　歌いだしそうな表情さらして\\nダンナと仲良く腕組んで　道横切って...</td>\n",
       "    </tr>\n",
       "    <tr>\n",
       "      <th>2</th>\n",
       "      <td>10132</td>\n",
       "      <td>Survive</td>\n",
       "      <td>B'z</td>\n",
       "      <td>NaN</td>\n",
       "      <td>稲葉浩志</td>\n",
       "      <td>松本孝弘</td>\n",
       "      <td>KOHSHI INABA・AKIHITO TOKUNAGA・TAK MATSUMOTO</td>\n",
       "      <td>1997/11/19</td>\n",
       "      <td>https://m.media-amazon.com/images/I/61gRn0r4To...</td>\n",
       "      <td>遠くはなれてる ここんとこの僕ら\\nそういうもんだと うなずけば楽なんだろう\\nさぐりあう ...</td>\n",
       "    </tr>\n",
       "    <tr>\n",
       "      <th>3</th>\n",
       "      <td>10260</td>\n",
       "      <td>さまよえる蒼い弾丸</td>\n",
       "      <td>B'z</td>\n",
       "      <td>ポカリスエット</td>\n",
       "      <td>稲葉浩志</td>\n",
       "      <td>松本孝弘</td>\n",
       "      <td>稲葉浩志・松本孝弘</td>\n",
       "      <td>1998/04/08</td>\n",
       "      <td>https://m.media-amazon.com/images/I/415o1n8QYG...</td>\n",
       "      <td>風の強い日はアレルギー　そんなのかまっていられない\\n無菌状態に慣れ過ぎ　みんなあちこち弱っ...</td>\n",
       "    </tr>\n",
       "    <tr>\n",
       "      <th>4</th>\n",
       "      <td>10415</td>\n",
       "      <td>The Wild Wind</td>\n",
       "      <td>B'z</td>\n",
       "      <td>不夜城主題歌</td>\n",
       "      <td>稲葉浩志</td>\n",
       "      <td>松本孝弘</td>\n",
       "      <td>NaN</td>\n",
       "      <td>1998/07/08</td>\n",
       "      <td>https://m.media-amazon.com/images/I/51J40ZyK6r...</td>\n",
       "      <td>夜の風は どこまでも優しく\\n人の隙間を すり抜けて ブランコ揺らす\\n街を歩いて 手軽な物...</td>\n",
       "    </tr>\n",
       "    <tr>\n",
       "      <th>...</th>\n",
       "      <td>...</td>\n",
       "      <td>...</td>\n",
       "      <td>...</td>\n",
       "      <td>...</td>\n",
       "      <td>...</td>\n",
       "      <td>...</td>\n",
       "      <td>...</td>\n",
       "      <td>...</td>\n",
       "      <td>...</td>\n",
       "      <td>...</td>\n",
       "    </tr>\n",
       "    <tr>\n",
       "      <th>367</th>\n",
       "      <td>912</td>\n",
       "      <td>OH! GIRL</td>\n",
       "      <td>B'z</td>\n",
       "      <td>NaN</td>\n",
       "      <td>稲葉浩志</td>\n",
       "      <td>松本孝弘</td>\n",
       "      <td>明石昌夫・松本孝弘</td>\n",
       "      <td>1989/05/21</td>\n",
       "      <td>https://m.media-amazon.com/images/I/51y1jZ-f0O...</td>\n",
       "      <td>Let Me Go　みだらに続く濡れたハイウェイ　To Your Home\\nDon't S...</td>\n",
       "    </tr>\n",
       "    <tr>\n",
       "      <th>368</th>\n",
       "      <td>9137</td>\n",
       "      <td>Real Thing Shakes</td>\n",
       "      <td>B'z</td>\n",
       "      <td>俺たちに気をつけろ。主題歌</td>\n",
       "      <td>稲葉浩志</td>\n",
       "      <td>松本孝弘</td>\n",
       "      <td>NaN</td>\n",
       "      <td>1998/09/20</td>\n",
       "      <td>https://m.media-amazon.com/images/I/51ZAYJE6J6...</td>\n",
       "      <td>Can't fall asleep I don't know why\\nI know it'...</td>\n",
       "    </tr>\n",
       "    <tr>\n",
       "      <th>369</th>\n",
       "      <td>9500</td>\n",
       "      <td>傷心</td>\n",
       "      <td>B'z</td>\n",
       "      <td>超次元タイムボンバーエンディング</td>\n",
       "      <td>稲葉浩志</td>\n",
       "      <td>松本孝弘</td>\n",
       "      <td>NaN</td>\n",
       "      <td>1996/11/25</td>\n",
       "      <td>https://m.media-amazon.com/images/I/31H6MK8M15...</td>\n",
       "      <td>にこやかに愛しあう風景\\nこわいもののない平和な習性\\n\\nだれもがまんべんなく幸せにと願い...</td>\n",
       "    </tr>\n",
       "    <tr>\n",
       "      <th>370</th>\n",
       "      <td>9624</td>\n",
       "      <td>FIREBALL</td>\n",
       "      <td>B'z</td>\n",
       "      <td>資生堂「ピエヌ」</td>\n",
       "      <td>稲葉浩志</td>\n",
       "      <td>松本孝弘</td>\n",
       "      <td>稲葉浩志・松本孝弘</td>\n",
       "      <td>1997/03/05</td>\n",
       "      <td>https://m.media-amazon.com/images/I/41hqG6jmPF...</td>\n",
       "      <td>夜明けまで続きそうな　おしゃべりに　頭が割れそうで\\n僕を見ようとしない　きみに声をかけるス...</td>\n",
       "    </tr>\n",
       "    <tr>\n",
       "      <th>371</th>\n",
       "      <td>9842</td>\n",
       "      <td>Calling</td>\n",
       "      <td>B'z</td>\n",
       "      <td>ガラスの仮面主題歌</td>\n",
       "      <td>稲葉浩志</td>\n",
       "      <td>松本孝弘</td>\n",
       "      <td>池田大介・稲葉浩志・徳永暁人・松本孝弘</td>\n",
       "      <td>1997/07/09</td>\n",
       "      <td>https://m.media-amazon.com/images/I/41E9AQZaJR...</td>\n",
       "      <td>この声が聞こえるかい　wow wow wow wow\\n今なら聞こえるかい　どうか苦しまない...</td>\n",
       "    </tr>\n",
       "  </tbody>\n",
       "</table>\n",
       "<p>372 rows × 10 columns</p>\n",
       "</div>"
      ],
      "text/plain": [
       "     song_id              title artist                     main_theme  \\\n",
       "0      10000          DEEP KISS    B'z                            NaN   \n",
       "1      10085        Liar! Liar!    B'z  97 NHL 日本公式開幕戦オフィシャルテーマソング主題歌   \n",
       "2      10132            Survive    B'z                            NaN   \n",
       "3      10260          さまよえる蒼い弾丸    B'z                        ポカリスエット   \n",
       "4      10415      The Wild Wind    B'z                         不夜城主題歌   \n",
       "..       ...                ...    ...                            ...   \n",
       "367      912           OH! GIRL    B'z                            NaN   \n",
       "368     9137  Real Thing Shakes    B'z                  俺たちに気をつけろ。主題歌   \n",
       "369     9500                 傷心    B'z               超次元タイムボンバーエンディング   \n",
       "370     9624           FIREBALL    B'z                       資生堂「ピエヌ」   \n",
       "371     9842            Calling    B'z                      ガラスの仮面主題歌   \n",
       "\n",
       "    lyricist composer                                     arranger  \\\n",
       "0       稲葉浩志     松本孝弘  KOHSHI INABA・AKIHITO TOKUNAGA・TAK MATSUMOTO   \n",
       "1       稲葉浩志     松本孝弘                               稲葉浩志・徳永暁人・松本孝弘   \n",
       "2       稲葉浩志     松本孝弘  KOHSHI INABA・AKIHITO TOKUNAGA・TAK MATSUMOTO   \n",
       "3       稲葉浩志     松本孝弘                                    稲葉浩志・松本孝弘   \n",
       "4       稲葉浩志     松本孝弘                                          NaN   \n",
       "..       ...      ...                                          ...   \n",
       "367     稲葉浩志     松本孝弘                                    明石昌夫・松本孝弘   \n",
       "368     稲葉浩志     松本孝弘                                          NaN   \n",
       "369     稲葉浩志     松本孝弘                                          NaN   \n",
       "370     稲葉浩志     松本孝弘                                    稲葉浩志・松本孝弘   \n",
       "371     稲葉浩志     松本孝弘                          池田大介・稲葉浩志・徳永暁人・松本孝弘   \n",
       "\n",
       "    release_date                                          cover_url  \\\n",
       "0     1997/11/19  https://m.media-amazon.com/images/I/61gRn0r4To...   \n",
       "1     1997/10/08  https://m.media-amazon.com/images/I/51M0KWpRk2...   \n",
       "2     1997/11/19  https://m.media-amazon.com/images/I/61gRn0r4To...   \n",
       "3     1998/04/08  https://m.media-amazon.com/images/I/415o1n8QYG...   \n",
       "4     1998/07/08  https://m.media-amazon.com/images/I/51J40ZyK6r...   \n",
       "..           ...                                                ...   \n",
       "367   1989/05/21  https://m.media-amazon.com/images/I/51y1jZ-f0O...   \n",
       "368   1998/09/20  https://m.media-amazon.com/images/I/51ZAYJE6J6...   \n",
       "369   1996/11/25  https://m.media-amazon.com/images/I/31H6MK8M15...   \n",
       "370   1997/03/05  https://m.media-amazon.com/images/I/41hqG6jmPF...   \n",
       "371   1997/07/09  https://m.media-amazon.com/images/I/41E9AQZaJR...   \n",
       "\n",
       "                                                lyrics  \n",
       "0    イヤイヤイヤ……\\n\\n予想通りあの娘は逃げちゃった\\nいっさいがっさい持ってかれました\\n...  \n",
       "1    まっ黄色いシャツ着ちゃって　歌いだしそうな表情さらして\\nダンナと仲良く腕組んで　道横切って...  \n",
       "2    遠くはなれてる ここんとこの僕ら\\nそういうもんだと うなずけば楽なんだろう\\nさぐりあう ...  \n",
       "3    風の強い日はアレルギー　そんなのかまっていられない\\n無菌状態に慣れ過ぎ　みんなあちこち弱っ...  \n",
       "4    夜の風は どこまでも優しく\\n人の隙間を すり抜けて ブランコ揺らす\\n街を歩いて 手軽な物...  \n",
       "..                                                 ...  \n",
       "367  Let Me Go　みだらに続く濡れたハイウェイ　To Your Home\\nDon't S...  \n",
       "368  Can't fall asleep I don't know why\\nI know it'...  \n",
       "369  にこやかに愛しあう風景\\nこわいもののない平和な習性\\n\\nだれもがまんべんなく幸せにと願い...  \n",
       "370  夜明けまで続きそうな　おしゃべりに　頭が割れそうで\\n僕を見ようとしない　きみに声をかけるス...  \n",
       "371  この声が聞こえるかい　wow wow wow wow\\n今なら聞こえるかい　どうか苦しまない...  \n",
       "\n",
       "[372 rows x 10 columns]"
      ]
     },
     "execution_count": 4,
     "metadata": {},
     "output_type": "execute_result"
    }
   ],
   "source": [
    "import pandas as pd\n",
    "\n",
    "pd.read_csv(\"lyrics_data.csv\")"
   ]
  },
  {
   "cell_type": "code",
   "execution_count": 5,
   "metadata": {},
   "outputs": [
    {
     "name": "stdout",
     "output_type": "stream",
     "text": [
      "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\n",
      "21ad029c9a7d80f0b7dee9bcf1d7d3ae\n"
     ]
    }
   ],
   "source": [
    "import os\n",
    "\n",
    "notion_token = os.getenv('NOTION_TOKEN')\n",
    "notion_db_id = os.getenv('NOTION_DATABASE_ID')\n",
    "\n",
    "# print(notion_token)\n",
    "# print(notion_db_id)"
   ]
  }
 ],
 "metadata": {
  "kernelspec": {
   "display_name": ".venv",
   "language": "python",
   "name": "python3"
  },
  "language_info": {
   "codemirror_mode": {
    "name": "ipython",
    "version": 3
   },
   "file_extension": ".py",
   "mimetype": "text/x-python",
   "name": "python",
   "nbconvert_exporter": "python",
   "pygments_lexer": "ipython3",
   "version": "3.13.4"
  }
 },
 "nbformat": 4,
 "nbformat_minor": 2
}
